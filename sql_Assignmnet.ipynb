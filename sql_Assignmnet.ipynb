{
  "nbformat": 4,
  "nbformat_minor": 0,
  "metadata": {
    "colab": {
      "name": "sql Assignmnet ",
      "provenance": []
    },
    "kernelspec": {
      "name": "python3",
      "display_name": "Python 3"
    },
    "language_info": {
      "name": "python"
    }
  },
  "cells": [
    {
      "cell_type": "markdown",
      "source": [
        "Q-1. Write an SQL query to fetch “FIRST_NAME” from Worker table using the alias\n",
        "name as &lt;WORKER_NAME&gt;."
      ],
      "metadata": {
        "id": "uejJQV8_YIzm"
      }
    },
    {
      "cell_type": "markdown",
      "source": [
        "select first_name as worker_name from worker"
      ],
      "metadata": {
        "id": "xVKLTusiYKKt"
      }
    },
    {
      "cell_type": "markdown",
      "source": [
        "Q-2. Write an SQL query to fetch unique values of DEPARTMENT from Worker table."
      ],
      "metadata": {
        "id": "9v33qGtaZNFn"
      }
    },
    {
      "cell_type": "markdown",
      "source": [
        "select distict department from work table;"
      ],
      "metadata": {
        "id": "VecSFoSBaamE"
      }
    },
    {
      "cell_type": "markdown",
      "source": [
        "Q-3. Write an SQL query to show the last 5 record from a table."
      ],
      "metadata": {
        "id": "N0Hvtgf_alVB"
      }
    },
    {
      "cell_type": "markdown",
      "source": [
        "SELECT TOP 5 *\n",
        "FROM worker\n",
        "ORDER BY ID DESC"
      ],
      "metadata": {
        "id": "mmM6PWL8aoT3"
      }
    }
  ]
}